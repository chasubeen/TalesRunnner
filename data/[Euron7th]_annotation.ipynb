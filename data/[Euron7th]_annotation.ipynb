{
  "cells": [
    {
      "cell_type": "markdown",
      "metadata": {
        "id": "ifudAx6G6tc3"
      },
      "source": [
        "# 데이터 압축 해제"
      ]
    },
    {
      "cell_type": "code",
      "execution_count": null,
      "metadata": {
        "colab": {
          "base_uri": "https://localhost:8080/"
        },
        "id": "AaW9fcZ3MRsp",
        "outputId": "838eed3c-99f8-4328-f265-8eb7b65adeb7"
      },
      "outputs": [
        {
          "name": "stdout",
          "output_type": "stream",
          "text": [
            "Drive already mounted at /content/drive; to attempt to forcibly remount, call drive.mount(\"/content/drive\", force_remount=True).\n"
          ]
        }
      ],
      "source": [
        "# drive mount\n",
        "from google.colab import drive\n",
        "drive.mount('/content/drive')"
      ]
    },
    {
      "cell_type": "code",
      "execution_count": null,
      "metadata": {
        "id": "GjYEaw0DPPto"
      },
      "outputs": [],
      "source": [
        "## training\n",
        "import os\n",
        "\n",
        "files = []\n",
        "\n",
        "# 압축된 파일 경로 추가\n",
        "\n",
        "# 의사소통\n",
        "files.append('/content/drive/MyDrive/Euron7th/7th-project/data/Training/TL_01T_의사소통_01S_유아.zip')\n",
        "files.append('/content/drive/MyDrive/Euron7th/7th-project/data/Training/TL_01T_의사소통_02S_초등_저학년.zip')\n",
        "files.append('/content/drive/MyDrive/Euron7th/7th-project/data/Training/TL_01T_의사소통_03S_초등_고학년.zip')\n",
        "\n",
        "# 자연탐구\n",
        "files.append('/content/drive/MyDrive/Euron7th/7th-project/data/Training/TL_02T_자연탐구_01S_유아.zip')\n",
        "files.append('/content/drive/MyDrive/Euron7th/7th-project/data/Training/TL_02T_자연탐구_02S_초등_저학년.zip')\n",
        "files.append('/content/drive/MyDrive/Euron7th/7th-project/data/Training/TL_02T_자연탐구_03S_초등_고학년.zip')\n",
        "\n",
        "# 사회관계\n",
        "files.append('/content/drive/MyDrive/Euron7th/7th-project/data/Training/TL_03T_사회관계_01S_유아.zip')\n",
        "files.append('/content/drive/MyDrive/Euron7th/7th-project/data/Training/TL_03T_사회관계_02S_초등_저학년.zip')\n",
        "files.append('/content/drive/MyDrive/Euron7th/7th-project/data/Training/TL_03T_사회관계_03S_초등_고학년.zip')\n",
        "\n",
        "# 예술경험\n",
        "files.append('/content/drive/MyDrive/Euron7th/7th-project/data/Training/TL_04T_예술경험_01S_유아.zip')\n",
        "files.append('/content/drive/MyDrive/Euron7th/7th-project/data/Training/TL_04T_예술경험_02S_초등_저학년.zip')\n",
        "files.append('/content/drive/MyDrive/Euron7th/7th-project/data/Training/TL_04T_예술경험_03S_초등_고학년.zip')\n",
        "\n",
        "# 신체운동\n",
        "files.append('/content/drive/MyDrive/Euron7th/7th-project/data/Training/TL_05T_신체운동_건강_01S_유아.zip')\n",
        "files.append('/content/drive/MyDrive/Euron7th/7th-project/data/Training/TL_05T_신체운동_건강_02S_초등_저학년.zip')\n",
        "files.append('/content/drive/MyDrive/Euron7th/7th-project/data/Training/TL_05T_신체운동_건강_03S_초등_고학년.zip')"
      ]
    },
    {
      "cell_type": "code",
      "execution_count": null,
      "metadata": {
        "id": "iHMptW2mfA1S"
      },
      "outputs": [],
      "source": [
        "## validation\n",
        "import os\n",
        "\n",
        "files = []\n",
        "\n",
        "# 압축된 파일 경로 추가\n",
        "\n",
        "# 의사소통\n",
        "files.append('/content/drive/MyDrive/Euron7th/7th-project/data/Validation/VL_01T_의사소통_01S_유아.zip')\n",
        "files.append('/content/drive/MyDrive/Euron7th/7th-project/data/Validation/VL_01T_의사소통_02S_초등_저학년.zip')\n",
        "files.append('/content/drive/MyDrive/Euron7th/7th-project/data/Validation/VL_01T_의사소통_03S_초등_고학년.zip')\n",
        "\n",
        "# 자연탐구\n",
        "files.append('/content/drive/MyDrive/Euron7th/7th-project/data/Validation/VL_02T_자연탐구_01S_유아.zip')\n",
        "files.append('/content/drive/MyDrive/Euron7th/7th-project/data/Validation/VL_02T_자연탐구_02S_초등_저학년.zip')\n",
        "files.append('/content/drive/MyDrive/Euron7th/7th-project/data/Validation/VL_02T_자연탐구_03S_초등_고학년.zip')\n",
        "\n",
        "# 사회관계\n",
        "files.append('/content/drive/MyDrive/Euron7th/7th-project/data/Validation/VL_03T_사회관계_01S_유아.zip')\n",
        "files.append('/content/drive/MyDrive/Euron7th/7th-project/data/Validation/VL_03T_사회관계_02S_초등_저학년.zip')\n",
        "files.append('/content/drive/MyDrive/Euron7th/7th-project/data/Validation/VL_03T_사회관계_03S_초등_고학년.zip')\n",
        "\n",
        "# 예술경험\n",
        "files.append('/content/drive/MyDrive/Euron7th/7th-project/data/Validation/VL_04T_예술경험_01S_유아.zip')\n",
        "files.append('/content/drive/MyDrive/Euron7th/7th-project/data/Validation/VL_04T_예술경험_02S_초등_저학년.zip')\n",
        "files.append('/content/drive/MyDrive/Euron7th/7th-project/data/Validation/VL_04T_예술경험_03S_초등_고학년.zip')\n",
        "\n",
        "# 신체운동\n",
        "files.append('/content/drive/MyDrive/Euron7th/7th-project/data/Validation/VL_05T_신체운동_건강_01S_유아.zip')\n",
        "files.append('/content/drive/MyDrive/Euron7th/7th-project/data/Validation/VL_05T_신체운동_건강_02S_초등_저학년.zip')\n",
        "files.append('/content/drive/MyDrive/Euron7th/7th-project/data/Validation/VL_05T_신체운동_건강_03S_초등_고학년.zip')"
      ]
    },
    {
      "cell_type": "code",
      "execution_count": null,
      "metadata": {
        "id": "KZInsJVBBfTU"
      },
      "outputs": [],
      "source": [
        "# 압축 해제할 경로 설정\n",
        "extract_to = '/content/data_unzip'"
      ]
    },
    {
      "cell_type": "code",
      "execution_count": null,
      "metadata": {
        "colab": {
          "base_uri": "https://localhost:8080/"
        },
        "id": "1TiuDfEc7xUk",
        "outputId": "bae7f2c8-b378-46cb-dc5e-e4344b7358cc"
      },
      "outputs": [
        {
          "name": "stdout",
          "output_type": "stream",
          "text": [
            "/content/drive/MyDrive/Euron7th/7th-project/data/Validation/VL_01T_의사소통_01S_유아.zip 압축 해제\n",
            "/content/drive/MyDrive/Euron7th/7th-project/data/Validation/VL_01T_의사소통_02S_초등_저학년.zip 압축 해제\n",
            "/content/drive/MyDrive/Euron7th/7th-project/data/Validation/VL_01T_의사소통_03S_초등_고학년.zip 압축 해제\n",
            "/content/drive/MyDrive/Euron7th/7th-project/data/Validation/VL_02T_자연탐구_01S_유아.zip 압축 해제\n",
            "/content/drive/MyDrive/Euron7th/7th-project/data/Validation/VL_02T_자연탐구_02S_초등_저학년.zip 압축 해제\n",
            "/content/drive/MyDrive/Euron7th/7th-project/data/Validation/VL_02T_자연탐구_03S_초등_고학년.zip 압축 해제\n",
            "/content/drive/MyDrive/Euron7th/7th-project/data/Validation/VL_03T_사회관계_01S_유아.zip 압축 해제\n",
            "/content/drive/MyDrive/Euron7th/7th-project/data/Validation/VL_03T_사회관계_02S_초등_저학년.zip 압축 해제\n",
            "/content/drive/MyDrive/Euron7th/7th-project/data/Validation/VL_03T_사회관계_03S_초등_고학년.zip 압축 해제\n",
            "/content/drive/MyDrive/Euron7th/7th-project/data/Validation/VL_04T_예술경험_01S_유아.zip 압축 해제\n",
            "/content/drive/MyDrive/Euron7th/7th-project/data/Validation/VL_04T_예술경험_02S_초등_저학년.zip 압축 해제\n",
            "/content/drive/MyDrive/Euron7th/7th-project/data/Validation/VL_04T_예술경험_03S_초등_고학년.zip 압축 해제\n",
            "/content/drive/MyDrive/Euron7th/7th-project/data/Validation/VL_05T_신체운동_건강_01S_유아.zip 압축 해제\n",
            "/content/drive/MyDrive/Euron7th/7th-project/data/Validation/VL_05T_신체운동_건강_02S_초등_저학년.zip 압축 해제\n",
            "/content/drive/MyDrive/Euron7th/7th-project/data/Validation/VL_05T_신체운동_건강_03S_초등_고학년.zip 압축 해제\n"
          ]
        }
      ],
      "source": [
        "# 압축 해제\n",
        "\n",
        "for zip_path in files:\n",
        "  print(zip_path, '압축 해제')\n",
        "\n",
        "  # 압축 해제, 경고 문구 출력하지 않음(2>/dev/null)\n",
        "  !unzip -q \"{zip_path}\" -d \"{extract_to}\" 2>/dev/null\n"
      ]
    },
    {
      "cell_type": "markdown",
      "metadata": {
        "id": "byVfOQUM9CDx"
      },
      "source": [
        "# 파일 선택 & 데이터 확인"
      ]
    },
    {
      "cell_type": "code",
      "execution_count": null,
      "metadata": {
        "colab": {
          "base_uri": "https://localhost:8080/"
        },
        "collapsed": true,
        "id": "ceqs9XwkHSjQ",
        "outputId": "393fa984-1ede-4fb8-eac2-88b56741d208"
      },
      "outputs": [],
      "source": [
        "import os\n",
        "\n",
        "# 대상 디렉토리 설정\n",
        "dir = \"/content/data_unzip\"  # 데이터가 저장된 디렉토리 경로\n",
        "\n",
        "for filename in os.listdir(dir):\n",
        "  file_path = os.path.join(dir, filename)\n",
        "\n",
        "  # 파일 확장자가 json이 아니면 삭제\n",
        "  if os.path.isfile(file_path) and not filename.endswith('.json'):\n",
        "      os.remove(file_path)\n",
        "\n",
        "  print(filename, \"완료\")"
      ]
    },
    {
      "cell_type": "code",
      "execution_count": null,
      "metadata": {
        "colab": {
          "base_uri": "https://localhost:8080/"
        },
        "id": "EuiOBkQwOwjK",
        "outputId": "c3218a1d-c6b6-459c-cd36-4006ff60d51f"
      },
      "outputs": [
        {
          "name": "stdout",
          "output_type": "stream",
          "text": [
            "{\n",
            "    \"title\": \"숲에서 길을 잃었어요 \",\n",
            "    \"author\": \"애플트리\",\n",
            "    \"illustrator\": \"황용호\",\n",
            "    \"isbn\": \"9788959991051\",\n",
            "    \"publishedYear\": 2010,\n",
            "    \"publisher\": \"한국로리스말라구찌\",\n",
            "    \"imageInfoCount\": 21,\n",
            "    \"paragraphInfoCount\": 21,\n",
            "    \"imageInfo\": [\n",
            "        {\n",
            "            \"srcTextID\": \"57122\",\n",
            "            \"srcText\": \"깜짝 놀란 베키는 살금살금 소리가 나는 곳으로 가 보았어요. 앗! 그런데 입이 길쭉, 이빨이 뾰족뾰족. 무서운 늑대가 앉아 있는 게 아니겠어요! 그 순간 베키는 거울로 늑대와 눈이 마주치고 말았어요.\",\n",
            "            \"srcPage\": 14,\n",
            "            \"srcSentenceEA\": 5,\n",
            "            \"srcWordEA\": 33,\n",
            "            \"character\": \"베키,늑대,이빨\",\n",
            "            \"setting\": null,\n",
            "            \"action\": \"보았어요,앉아\",\n",
            "            \"feeling\": \"무서운\",\n",
            "            \"causalRelationship\": null,\n",
            "            \"outcomeResolution\": null,\n",
            "            \"prediction\": null,\n",
            "            \"srcImageFile\": \"03_01T_01S_9788959991051_57122.jpg\",\n",
            "            \"srcImagePath\": \"data/adms/book/06숲에서 길을 잃었어요_9788959991051/image\",\n",
            "            \"srcImageS\": \"1988 X 1481\",\n",
            "            \"srcImageQ\": 1223513,\n",
            "            \"entityCount\": 1,\n",
            "            \"entity\": [\n",
            "                {\n",
            "                    \"name\": \"늑대\",\n",
            "                    \"i_action\": \"의자에 앉아 있다.\",\n",
            "                    \"position\": \"정중앙,가운데하단,왼쪽하단,우측하단,우측중앙,가운데상단\"\n",
            "                }\n",
            "            ],\n",
            "            \"imageCaptionInfo\": {\n",
            "                \"classification\": \"의사소통\",\n",
            "                \"readAge\": \"유아\",\n",
            "                \"imageCaption\": \"날카로운 이빨을 가진 무서운 늑대가 한 손에 토끼 가면을 들고 벽난로 앞에 놓인 의자에 앉아 있었습니다.\",\n",
            "                \"utteranceOpt\": \"RUBRIC\",\n",
            "                \"captionWordEA\": 16,\n",
            "                \"captionSyllableEA\": 42\n",
            "            }\n",
            "        }\n",
            "    ]\n",
            "}\n"
          ]
        }
      ],
      "source": [
        "import json\n",
        "\n",
        "json_path = '/content/data_unzip/03_01T_01S_9788959991051_57122.json'\n",
        "\n",
        "with open(json_path, 'r') as f:\n",
        "  data = json.load(f)\n",
        "\n",
        "print(json.dumps(data, indent=4, ensure_ascii=False))"
      ]
    },
    {
      "cell_type": "markdown",
      "metadata": {
        "id": "-tTX74IAV3y7"
      },
      "source": [
        "# CSV 파일 생성"
      ]
    },
    {
      "cell_type": "code",
      "execution_count": null,
      "metadata": {
        "id": "HvCxsEkkVQAq"
      },
      "outputs": [],
      "source": [
        "import pandas as pd\n",
        "\n",
        "input_directory = \"/content/data_unzip\"\n",
        "output_csv_path = \"/content/output.csv\"\n",
        "\n",
        "\n",
        "all_rows = []\n",
        "\n",
        "for filename in os.listdir(input_directory):\n",
        "  if filename.endswith('.json'):\n",
        "    json_file_path = os.path.join(input_directory, filename)\n",
        "\n",
        "    with open(json_file_path, 'r') as file:\n",
        "        data = json.load(file)\n",
        "\n",
        "    file_id = os.path.splitext(filename)[0]\n",
        "\n",
        "    for image in data[\"imageInfo\"]:\n",
        "        row = {\n",
        "            \"id\": file_id,\n",
        "            \"srcText\": image.get(\"srcText\", \"\"),\n",
        "            \"name\": image[\"entity\"][0].get(\"name\", \"\") if image.get(\"entity\") else \"\",\n",
        "            \"i_action\": image[\"entity\"][0].get(\"i_action\", \"\") if image.get(\"entity\") else \"\",\n",
        "            \"classification\": image[\"imageCaptionInfo\"].get(\"classification\", \"\"),\n",
        "            \"character\": image.get(\"character\", \"\"),\n",
        "            \"setting\": image.get(\"setting\", \"\"),\n",
        "            \"action\": image.get(\"action\", \"\"),\n",
        "            \"feeling\": image.get(\"feeling\", \"\"),\n",
        "            \"causalRelationship\": image.get(\"causalRelationship\", \"\"),\n",
        "            \"outcomeResolution\": image.get(\"outcomeResolution\", \"\"),\n",
        "            \"prediction\": image.get(\"prediction\", \"\"),\n",
        "        }\n",
        "        all_rows.append(row)\n",
        "\n",
        "\n"
      ]
    },
    {
      "cell_type": "code",
      "execution_count": null,
      "metadata": {
        "colab": {
          "base_uri": "https://localhost:8080/"
        },
        "id": "dCTE8g6RdZyz",
        "outputId": "0e685286-fcd6-4768-9339-9538471c1060"
      },
      "outputs": [
        {
          "name": "stdout",
          "output_type": "stream",
          "text": [
            "모든 JSON 데이터를 처리하여 CSV 파일로 저장했습니다: /content/validation\n"
          ]
        }
      ],
      "source": [
        "df = pd.DataFrame(all_rows)\n",
        "df.to_csv(output_csv_path, index=False, encoding='utf-8-sig')\n",
        "\n",
        "print(f\"모든 JSON 데이터를 처리하여 CSV 파일로 저장했습니다: {output_csv_path}\")"
      ]
    }
  ],
  "metadata": {
    "colab": {
      "provenance": []
    },
    "kernelspec": {
      "display_name": "Python 3",
      "name": "python3"
    },
    "language_info": {
      "name": "python"
    }
  },
  "nbformat": 4,
  "nbformat_minor": 0
}
